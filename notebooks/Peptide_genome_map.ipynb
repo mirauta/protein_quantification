{
 "cells": [
  {
   "cell_type": "code",
   "execution_count": 1,
   "metadata": {
    "collapsed": false
   },
   "outputs": [],
   "source": [
    "import sys\n",
    "import numpy as np\n",
    "import csv as csv\n",
    "import h5py\n",
    "sys.path.append('../')\n",
    "from Public_modules.Utilities import *\n",
    "from Public_modules.Load_protein_mrna import *\n",
    "import pandas\n",
    "import matplotlib.pyplot as plt\n",
    "import matplotlib as mpl\n",
    " "
   ]
  },
  {
   "cell_type": "code",
   "execution_count": 2,
   "metadata": {
    "collapsed": false
   },
   "outputs": [
    {
     "name": "stdout",
     "output_type": "stream",
     "text": [
      "read all parameters from parameters file\n",
      "could not load peer data\n"
     ]
    }
   ],
   "source": [
    "data=load_protein_mrna( filter_genes=\"\",filter_lines=\"_lines_filtered_unique\", field_data=\"Reporter intensity corrected_regbatch\",only_protein=True)"
   ]
  },
  {
   "cell_type": "code",
   "execution_count": 3,
   "metadata": {
    "collapsed": false
   },
   "outputs": [
    {
     "data": {
      "text/plain": [
       "dict_keys(['protein_intensity', 'peptide_intensity', 'peptide_meta', 'peptide_protein', 'protein_meta', 'line_meta', 'batch_mat'])"
      ]
     },
     "execution_count": 3,
     "metadata": {},
     "output_type": "execute_result"
    }
   ],
   "source": [
    "data.keys()"
   ]
  },
  {
   "cell_type": "code",
   "execution_count": null,
   "metadata": {
    "collapsed": false
   },
   "outputs": [],
   "source": [
    "%%bash\n",
    "cd /Users/mirauta/Data/MS/hipsci/TMT/phenotypes/\n",
    "awk  'NR>1 {print \"hipsci\"\"\\t\" $1 \"\\t\" 1\"\\t\" $10}' hipsci.proteomics.maxquant.uniprot.TMT_batch_14.20170517_peptide_Reporter\\ intensity\\ corrected_regbatch_lines_filtered_unique.txt\\\n",
    "> hipsci.proteomics.maxquant.uniprot.TMT_batch_14.20170517_peptide_lines_filtered_unique_list.txt\n",
    "\n",
    "#head hipsci.proteomics.maxquant.uniprot.TMT_batch_14.20170517_peptide_lines_filtered_unique_genes_filtered_list.txt"
   ]
  },
  {
   "cell_type": "code",
   "execution_count": null,
   "metadata": {
    "collapsed": false
   },
   "outputs": [],
   "source": [
    "%%bash\n",
    "cd /Users/mirauta/Data/MS/hipsci/TMT/phenotypes/\n",
    "/Users/mirauta/Scripts/pogo/pogo_cmd  \\\n",
    "-in ./hipsci.proteomics.maxquant.uniprot.TMT_batch_14.20170517_peptide_lines_filtered_unique_list.txt \\\n",
    "-fasta /Users/mirauta/Data/Annotation/Ensembl_37.75/Homo_sapiens.GRCh37.75.pep.all.fa \\\n",
    "-gtf /Users/mirauta/Data/Annotation/Ensembl_37.75/gencode.v19.annotation.gtf\n",
    "#Homo_sapiens.GRCh37.75.gtf"
   ]
  },
  {
   "cell_type": "code",
   "execution_count": null,
   "metadata": {
    "collapsed": false
   },
   "outputs": [],
   "source": [
    "import pandas\n",
    "folder_data='/Users/mirauta/Data/MS/hipsci/TMT/phenotypes/'\n",
    "\n",
    "peptide_genome_mapi=pandas.read_table(folder_data+\"hipsci.proteomics.maxquant.uniprot.TMT_batch_14.20170517_peptide_lines_filtered_unique_list\\\n",
    ".bed\",sep='\\t',header=None)\n",
    "peptide_genome_map=pandas.DataFrame(data=np.array(peptide_genome_mapi)[:,[0,3,2,5,1,1]], \\\n",
    "                                    index=peptide_genome_mapi.index, \\\n",
    "                                    columns={\"chromosome\", \"feature_id\",\"start\", \"end\",\"overlap\",\"strand\"})#.set_index('feature_id',drop=False)\n",
    "peptide_genome_map['chromosome']=np.array([c.replace('chr','')for c in peptide_genome_map['chromosome']])\n",
    "peptide_genome_map['overlap']=np.zeros(len(peptide_genome_map['overlap']),dtype='object')\n",
    "peptide_genome_map"
   ]
  },
  {
   "cell_type": "markdown",
   "metadata": {
    "collapsed": false
   },
   "source": [
    "bring common variants\n"
   ]
  },
  {
   "cell_type": "code",
   "execution_count": null,
   "metadata": {
    "collapsed": false
   },
   "outputs": [],
   "source": [
    "snps=pandas.concat([pandas.read_table('/Users/mirauta/Data/Genotypes/hipsci/'+chrom+'.vars',sep='\\t',header=0)for chrom in np.arange(1,23).astype('U')])\n",
    "snps=snps.set_index('CHR',drop=False).transpose()\n",
    "snps"
   ]
  },
  {
   "cell_type": "markdown",
   "metadata": {
    "collapsed": true
   },
   "source": [
    "For each peptide see if it overalps known snps"
   ]
  },
  {
   "cell_type": "code",
   "execution_count": null,
   "metadata": {
    "collapsed": false
   },
   "outputs": [],
   "source": [
    "pep={}\n",
    "for chrom in np.arange(1,6):\n",
    "    print (chrom)\n",
    "    pep[chrom]=peptide_genome_map.set_index('chromosome',drop=False).transpose()[str(chrom)].transpose().set_index('feature_id')\n",
    "    snp=np.array(snps[chrom].transpose()['POS'])\n",
    "    pep[chrom]['overlap']=[\\\n",
    "                           (snp[(s<snp)&(pep[chrom]['end'][inds]>snp)])\\\n",
    "                           for inds,s in enumerate(pep[chrom]['start'])]"
   ]
  },
  {
   "cell_type": "code",
   "execution_count": null,
   "metadata": {
    "collapsed": false
   },
   "outputs": [],
   "source": [
    "peptide_overlap=pandas.concat([pep[chrom] for chrom in pep.keys()])\n",
    "peptide_overlap['overlap2']=np.array([len(o) for o in peptide_overlap['overlap']])"
   ]
  },
  {
   "cell_type": "code",
   "execution_count": null,
   "metadata": {
    "collapsed": false
   },
   "outputs": [],
   "source": [
    "peptide_overlap"
   ]
  },
  {
   "cell_type": "code",
   "execution_count": null,
   "metadata": {
    "collapsed": false
   },
   "outputs": [],
   "source": [
    "peptide_overlap.index[peptide_overlap['overlap2']==12]"
   ]
  },
  {
   "cell_type": "code",
   "execution_count": null,
   "metadata": {
    "collapsed": false
   },
   "outputs": [],
   "source": [
    "for n in range(101,120):\n",
    "    pepseq=peptide_overlap.index[peptide_overlap['overlap2']==2][n];\n",
    "\n",
    "    plt.plot(np.log(data['peptide_intensity'][pepseq].values),color='orange');\n",
    "    pepseq=peptide_overlap.index[peptide_overlap['overlap2']==0][n];\n",
    "    peptide_overlap.transpose()[pepseq]\n",
    "    plt.plot(np.log(data['peptide_intensity'][pepseq].values),color='blue');\n",
    "plt.show()"
   ]
  },
  {
   "cell_type": "code",
   "execution_count": null,
   "metadata": {
    "collapsed": false
   },
   "outputs": [],
   "source": [
    "xx1=data['peptide_intensity'][peptide_overlap.index[(peptide_overlap['overlap2']==2)&(peptide_overlap['strand']=='-')]]\n",
    "xx2=data['peptide_intensity'][peptide_overlap.index[(peptide_overlap['overlap2']==0)&(peptide_overlap['strand']=='-')]]\n",
    "print (xx1.shape)\n",
    "print (xx2.shape)\n",
    "np.nansum(xx1>0,0)[np.isfinite(np.nansum(xx1>0,0))]"
   ]
  },
  {
   "cell_type": "code",
   "execution_count": null,
   "metadata": {
    "collapsed": false
   },
   "outputs": [],
   "source": [
    "plt.hist([np.log(1+ np.nansum(xx1,0)[np.isfinite(np.nansum(xx1,0))]),np.log(1+np.nansum(xx2,0)[np.isfinite(np.nansum(xx2,0))])],normed=1,bins=20)\n",
    "plt.show()\n",
    "plt.hist([np.log(1+ np.nansum(xx1>0,0)[np.isfinite(np.nansum(xx1>0,0))]),np.log(1+np.nansum(xx2>0,0)[np.isfinite(np.nansum(xx2>0,0))])],normed=1,bins=20)\n",
    "plt.show()"
   ]
  },
  {
   "cell_type": "code",
   "execution_count": null,
   "metadata": {
    "collapsed": false
   },
   "outputs": [],
   "source": [
    "\n",
    "AAAAPGASPSPGGDAAWSEAGPGPRPLAR\n",
    "AIVEFLSNLAR\n",
    "AYLQDLVEGMDFQGPGES\n",
    "DESPEGSAADDLYSMLEEER\n",
    "EQLLGWTAEALPAK\n",
    "ETLQLVDSTTSYGLTGAVFSQDK\n",
    "FSLPGATCLQGEGQGHLSQK\n",
    "GIDYETVPINLIK\n",
    "GSDPATLYGSSGVPEPHPGEPVQQR\n",
    "LGADMEDVCGR\n",
    "LQPEEADVPAYPK\n",
    "LVIGQNGILSTPAVSCIIR\n",
    "MYGAQEDGSVGEGDLSCILK\n",
    "NYISAWELQR\n",
    "SISVIDSPGILSGEK\n",
    "SSLVTPSISK\n",
    "SVSDTYDPYLDVALEIR\n",
    "YLTLDGFDAMFR\n"
   ]
  },
  {
   "cell_type": "code",
   "execution_count": null,
   "metadata": {
    "collapsed": false,
    "scrolled": true
   },
   "outputs": [],
   "source": [
    "peptide_overlap.transpose()['AAAAPGASPSPGGDAAWSEAGPGPRPLAR']"
   ]
  },
  {
   "cell_type": "code",
   "execution_count": null,
   "metadata": {
    "collapsed": false
   },
   "outputs": [],
   "source": [
    "peptide_overlap"
   ]
  },
  {
   "cell_type": "code",
   "execution_count": null,
   "metadata": {
    "collapsed": true
   },
   "outputs": [],
   "source": []
  }
 ],
 "metadata": {
  "kernelspec": {
   "display_name": "Python 3",
   "language": "python",
   "name": "python3"
  },
  "language_info": {
   "codemirror_mode": {
    "name": "ipython",
    "version": 3
   },
   "file_extension": ".py",
   "mimetype": "text/x-python",
   "name": "python",
   "nbconvert_exporter": "python",
   "pygments_lexer": "ipython3",
   "version": "3.6.0"
  }
 },
 "nbformat": 4,
 "nbformat_minor": 2
}
